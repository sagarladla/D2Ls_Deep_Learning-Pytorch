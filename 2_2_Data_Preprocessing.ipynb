{
  "nbformat": 4,
  "nbformat_minor": 0,
  "metadata": {
    "colab": {
      "name": "2.2_Data_Preprocessing.ipynb",
      "provenance": [],
      "authorship_tag": "ABX9TyMg+J0THL2CPrfKPynXuM+k",
      "include_colab_link": true
    },
    "kernelspec": {
      "name": "python3",
      "display_name": "Python 3"
    }
  },
  "cells": [
    {
      "cell_type": "markdown",
      "metadata": {
        "id": "view-in-github",
        "colab_type": "text"
      },
      "source": [
        "<a href=\"https://colab.research.google.com/github/sagarladla/D2Ls_Deep_Learning-Pytorch/blob/master/2_2_Data_Preprocessing.ipynb\" target=\"_parent\"><img src=\"https://colab.research.google.com/assets/colab-badge.svg\" alt=\"Open In Colab\"/></a>"
      ]
    },
    {
      "cell_type": "code",
      "metadata": {
        "id": "Tbx-YU2GxJGY",
        "colab_type": "code",
        "colab": {}
      },
      "source": [
        "import os"
      ],
      "execution_count": 0,
      "outputs": []
    },
    {
      "cell_type": "code",
      "metadata": {
        "id": "Mk8VQjqGxjFh",
        "colab_type": "code",
        "colab": {}
      },
      "source": [
        "def mkdir_if_not_exist(path): #@save\n",
        "  if not isinstance(path, str):\n",
        "    path=os.path.join(*path)\n",
        "  if not os.path.exists(path):\n",
        "    os.makedirs(path)"
      ],
      "execution_count": 0,
      "outputs": []
    },
    {
      "cell_type": "code",
      "metadata": {
        "id": "V_DMu-q9yCZ_",
        "colab_type": "code",
        "colab": {}
      },
      "source": [
        "data_file=\"./data/house_tiny.csv\"\n",
        "mkdir_if_not_exist('./data')\n",
        "with open(data_file, mode='w') as fp:\n",
        "  fp.write(\"NumRooms,Alley,Price\\n\") # Column names\n",
        "  fp.write(\"NA,Pave,127500\\n\") # Row=data instance\n",
        "  fp.write(\"2,NA,106000\\n\")\n",
        "  fp.write(\"4,NA,178100\\n\")\n",
        "  fp.write(\"NA,NA,140000\\n\")"
      ],
      "execution_count": 0,
      "outputs": []
    },
    {
      "cell_type": "code",
      "metadata": {
        "id": "FFq_gLLozeHN",
        "colab_type": "code",
        "colab": {
          "base_uri": "https://localhost:8080/",
          "height": 104
        },
        "outputId": "62ab08f3-e5ac-4ce3-e3ae-6d0639e28e47"
      },
      "source": [
        "import pandas as pd\n",
        "\n",
        "data=pd.read_csv(data_file)\n",
        "print(data)"
      ],
      "execution_count": 13,
      "outputs": [
        {
          "output_type": "stream",
          "text": [
            "   NumRooms Alley   Price\n",
            "0       NaN  Pave  127500\n",
            "1       2.0   NaN  106000\n",
            "2       4.0   NaN  178100\n",
            "3       NaN   NaN  140000\n"
          ],
          "name": "stdout"
        }
      ]
    },
    {
      "cell_type": "code",
      "metadata": {
        "id": "5mtmMb0b6FWD",
        "colab_type": "code",
        "colab": {
          "base_uri": "https://localhost:8080/",
          "height": 191
        },
        "outputId": "9e56d212-ce6b-4f8a-9ad5-814d24e51ad6"
      },
      "source": [
        "inp,out=data.iloc[:,:-1],data.iloc[:,-1]\n",
        "inp=inp.fillna(inp.mean())\n",
        "print(inp)\n",
        "\n",
        "inp=pd.get_dummies(inp, dummy_na=True)\n",
        "print(inp)"
      ],
      "execution_count": 20,
      "outputs": [
        {
          "output_type": "stream",
          "text": [
            "   NumRooms Alley\n",
            "0       3.0  Pave\n",
            "1       2.0   NaN\n",
            "2       4.0   NaN\n",
            "3       3.0   NaN\n",
            "   NumRooms  Alley_Pave  Alley_nan\n",
            "0       3.0           1          0\n",
            "1       2.0           0          1\n",
            "2       4.0           0          1\n",
            "3       3.0           0          1\n"
          ],
          "name": "stdout"
        }
      ]
    },
    {
      "cell_type": "code",
      "metadata": {
        "id": "gmdkwErk7smK",
        "colab_type": "code",
        "colab": {
          "base_uri": "https://localhost:8080/",
          "height": 104
        },
        "outputId": "4c52de3c-65d3-4450-ae62-5101ab3b34d6"
      },
      "source": [
        "import torch\n",
        "\n",
        "X,y=torch.tensor(inp.values), torch.tensor(out.values)\n",
        "X,y"
      ],
      "execution_count": 23,
      "outputs": [
        {
          "output_type": "execute_result",
          "data": {
            "text/plain": [
              "(tensor([[3., 1., 0.],\n",
              "         [2., 0., 1.],\n",
              "         [4., 0., 1.],\n",
              "         [3., 0., 1.]], dtype=torch.float64),\n",
              " tensor([127500, 106000, 178100, 140000]))"
            ]
          },
          "metadata": {
            "tags": []
          },
          "execution_count": 23
        }
      ]
    }
  ]
}