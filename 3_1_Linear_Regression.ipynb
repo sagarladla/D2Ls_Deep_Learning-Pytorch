{
  "nbformat": 4,
  "nbformat_minor": 0,
  "metadata": {
    "colab": {
      "name": "3.1_Linear_Regression.ipynb",
      "provenance": [],
      "authorship_tag": "ABX9TyNTq2ycuuYhnTraaoHHZeyp",
      "include_colab_link": true
    },
    "kernelspec": {
      "name": "python3",
      "display_name": "Python 3"
    }
  },
  "cells": [
    {
      "cell_type": "markdown",
      "metadata": {
        "id": "view-in-github",
        "colab_type": "text"
      },
      "source": [
        "<a href=\"https://colab.research.google.com/github/sagarladla/D2Ls_Deep_Learning-Pytorch/blob/master/3_1_Linear_Regression.ipynb\" target=\"_parent\"><img src=\"https://colab.research.google.com/assets/colab-badge.svg\" alt=\"Open In Colab\"/></a>"
      ]
    },
    {
      "cell_type": "code",
      "metadata": {
        "id": "PUb1gbQH7c08",
        "colab_type": "code",
        "colab": {}
      },
      "source": [
        "import torch\n",
        "import math\n",
        "import numpy as np\n",
        "import time"
      ],
      "execution_count": 5,
      "outputs": []
    },
    {
      "cell_type": "code",
      "metadata": {
        "id": "_bz1Sdws824C",
        "colab_type": "code",
        "colab": {}
      },
      "source": [
        "n=10000\n",
        "a=torch.ones(n)\n",
        "b=torch.ones(n)"
      ],
      "execution_count": 15,
      "outputs": []
    },
    {
      "cell_type": "code",
      "metadata": {
        "id": "9iKHu_3f7mQM",
        "colab_type": "code",
        "colab": {}
      },
      "source": [
        "class Timer:\n",
        "  \"\"\"Record multiple running times.\"\"\"\n",
        "  def __init__(self):\n",
        "    self.times=[]\n",
        "    self.start()\n",
        "  def start(self):\n",
        "    \"\"\"Start the timer.\"\"\"\n",
        "    self.tik=time.time()\n",
        "  def stop(self):\n",
        "    \"\"\"Stop the timer and record the time in list.\"\"\"\n",
        "    self.times.append(time.time()-self.tik)\n",
        "    return self.times[-1]\n",
        "  def avg(self):\n",
        "    \"\"\"Return the average time.\"\"\"\n",
        "    return sum(self.times) / len(self.times)\n",
        "  def sum(self):\n",
        "    \"\"\"Return the sum of time.\"\"\"\n",
        "    return sum(self.times)\n",
        "  def cumsum(self):\n",
        "    \"\"\"Return the accumulated times.\"\"\"\n",
        "    return np.array(self.times).cumsum().tolist()"
      ],
      "execution_count": 7,
      "outputs": []
    },
    {
      "cell_type": "code",
      "metadata": {
        "id": "DuYQfr-Z8xta",
        "colab_type": "code",
        "colab": {
          "base_uri": "https://localhost:8080/",
          "height": 35
        },
        "outputId": "05b137c3-cb70-415a-a84b-ac17ad38aef6"
      },
      "source": [
        "c=torch.zeros(n)\n",
        "timer=Timer()\n",
        "for i in range(n):\n",
        "  c[i]=a[i]+b[i]\n",
        "print(f'{timer.stop():.5f} sec')"
      ],
      "execution_count": 12,
      "outputs": [
        {
          "output_type": "stream",
          "text": [
            "0.11133 sec\n"
          ],
          "name": "stdout"
        }
      ]
    },
    {
      "cell_type": "code",
      "metadata": {
        "id": "EaUjyO5NQ8SR",
        "colab_type": "code",
        "colab": {
          "base_uri": "https://localhost:8080/",
          "height": 35
        },
        "outputId": "db629e42-dad5-4afb-ce57-bcbaf9f9d9e9"
      },
      "source": [
        "timer.start()\n",
        "d=a+b\n",
        "print(f'{timer.stop():.5f} sec')"
      ],
      "execution_count": 13,
      "outputs": [
        {
          "output_type": "stream",
          "text": [
            "0.00072 sec\n"
          ],
          "name": "stdout"
        }
      ]
    }
  ]
}