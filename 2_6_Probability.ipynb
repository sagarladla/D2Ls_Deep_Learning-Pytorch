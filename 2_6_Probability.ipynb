{
  "nbformat": 4,
  "nbformat_minor": 0,
  "metadata": {
    "colab": {
      "name": "2.6_Probability.ipynb",
      "provenance": [],
      "collapsed_sections": [
        "BNfr0SGYeIz1"
      ],
      "authorship_tag": "ABX9TyOGznv36P8LKV35+AK/71ld",
      "include_colab_link": true
    },
    "kernelspec": {
      "name": "python3",
      "display_name": "Python 3"
    }
  },
  "cells": [
    {
      "cell_type": "markdown",
      "metadata": {
        "id": "view-in-github",
        "colab_type": "text"
      },
      "source": [
        "<a href=\"https://colab.research.google.com/github/sagarladla/D2Ls_Deep_Learning-Pytorch/blob/master/2_6_Probability.ipynb\" target=\"_parent\"><img src=\"https://colab.research.google.com/assets/colab-badge.svg\" alt=\"Open In Colab\"/></a>"
      ]
    },
    {
      "cell_type": "code",
      "metadata": {
        "id": "KRAtihAez_Ub",
        "colab_type": "code",
        "colab": {}
      },
      "source": [
        "%matplotlib inline\n",
        "import torch\n",
        "from torch.distributions import multinomial # for assignment of probabilities to events\n",
        "import numpy as np"
      ],
      "execution_count": 0,
      "outputs": []
    },
    {
      "cell_type": "code",
      "metadata": {
        "id": "6REgO9j40rmR",
        "colab_type": "code",
        "outputId": "e45bd9d7-e563-4f9d-dfda-a601b939848a",
        "colab": {
          "base_uri": "https://localhost:8080/",
          "height": 35
        }
      },
      "source": [
        "fair_probs = torch.ones([6])/6\n",
        "multinomial.Multinomial(1, fair_probs).sample() # for 1 throw of die at a time\n",
        "multinomial.Multinomial(10, fair_probs).sample() # for 10 thows of die at a time"
      ],
      "execution_count": 2,
      "outputs": [
        {
          "output_type": "execute_result",
          "data": {
            "text/plain": [
              "tensor([2., 2., 0., 2., 3., 1.])"
            ]
          },
          "metadata": {
            "tags": []
          },
          "execution_count": 2
        }
      ]
    },
    {
      "cell_type": "code",
      "metadata": {
        "id": "_ifGgVfR2kac",
        "colab_type": "code",
        "outputId": "35cc3cee-545c-416f-89e7-bb280354cbad",
        "colab": {
          "base_uri": "https://localhost:8080/",
          "height": 146
        }
      },
      "source": [
        "counts = multinomial.Multinomial(10, fair_probs).sample(sample_shape=(3,))\n",
        "print(counts)\n",
        "# ---------or---------\n",
        "# PyTorch's Multinomial distribution doesn't offer the functionality\n",
        "# for conducting multiple experiments at once. In such case we can always\n",
        "# use numpy and later convert the ndarray to a torch tensor\n",
        "\n",
        "# 3 people/group experimenting, each with 10 thows of die at a time\n",
        "counts = torch.from_numpy(np.random.multinomial(10, fair_probs, size=3))\n",
        "print(counts)\n",
        "\n",
        "\n",
        "# thowing 1000 times a die\n",
        "counts = multinomial.Multinomial(1000, fair_probs).sample().type(torch.float32)\n",
        "# relative frequency is true estimate of probability\n",
        "counts/1000"
      ],
      "execution_count": 5,
      "outputs": [
        {
          "output_type": "stream",
          "text": [
            "tensor([[2., 2., 0., 2., 2., 2.],\n",
            "        [2., 2., 3., 1., 2., 0.],\n",
            "        [0., 1., 4., 2., 3., 0.]])\n",
            "tensor([[0, 3, 3, 1, 2, 1],\n",
            "        [4, 1, 4, 0, 1, 0],\n",
            "        [1, 0, 3, 1, 3, 2]])\n"
          ],
          "name": "stdout"
        },
        {
          "output_type": "execute_result",
          "data": {
            "text/plain": [
              "tensor([0.1610, 0.1560, 0.1700, 0.1800, 0.1780, 0.1550])"
            ]
          },
          "metadata": {
            "tags": []
          },
          "execution_count": 5
        }
      ]
    },
    {
      "cell_type": "markdown",
      "metadata": {
        "id": "BNfr0SGYeIz1",
        "colab_type": "text"
      },
      "source": [
        "# `THIS PART IS SKIPPED!!!`"
      ]
    },
    {
      "cell_type": "code",
      "metadata": {
        "id": "qZDvS1Gcb77k",
        "colab_type": "code",
        "outputId": "2483251d-c6da-4792-ff85-368561315de2",
        "colab": {
          "base_uri": "https://localhost:8080/",
          "height": 146
        }
      },
      "source": [
        "# Visualizing 500 people/group exprimenting, each drawing 10 samples\n",
        "counts = torch.from_numpy(np.random.multinomial(10, fair_probs, size=500)).type(torch.float32)\n",
        "print(counts)\n",
        "\n",
        "cum_counts = counts.cumsum(axis=0)"
      ],
      "execution_count": 0,
      "outputs": [
        {
          "output_type": "execute_result",
          "data": {
            "text/plain": [
              "tensor([[1., 3., 1., 1., 1., 3.],\n",
              "        [2., 1., 3., 1., 1., 2.],\n",
              "        [4., 2., 0., 2., 1., 1.],\n",
              "        ...,\n",
              "        [3., 0., 3., 3., 1., 0.],\n",
              "        [3., 1., 3., 1., 1., 1.],\n",
              "        [0., 0., 4., 3., 0., 3.]])"
            ]
          },
          "metadata": {
            "tags": []
          },
          "execution_count": 5
        }
      ]
    },
    {
      "cell_type": "markdown",
      "metadata": {
        "id": "IRtM0U1ee3nh",
        "colab_type": "text"
      },
      "source": [
        "# AXIOMs OF PROBABILITY THEORY...\n",
        "\n",
        "# `FuNc pRoBaBiLiTY():` maps a set to real value"
      ]
    },
    {
      "cell_type": "markdown",
      "metadata": {
        "id": "ZqrkpbkyCyzM",
        "colab_type": "text"
      },
      "source": [
        "# Joint Probability\n",
        "\n",
        "> Probability of 2 events occuring : <h1>`simultaneously`</h1>\n",
        "  > eg - P(A, B) = `P(A) and P(B)` // `P(A) Λ P(B)` // `P(A) * P(B)`\n",
        "\n",
        "> ie, `P(A, B) < P(A) or P(B)`\n",
        "\n",
        "\n",
        "\n",
        "\n",
        "\n"
      ]
    },
    {
      "cell_type": "markdown",
      "metadata": {
        "id": "GIOEzQ5lElJK",
        "colab_type": "text"
      },
      "source": [
        "# Conditional Probability\n",
        " > # 0 <= [ P(A, B) / P(A) ] <= 1\n",
        "\n",
        " > # P(B | A) - `P(B)` given \"`P(A)` - which has already occured!!!\""
      ]
    },
    {
      "cell_type": "markdown",
      "metadata": {
        "id": "X4da-H1UFx0S",
        "colab_type": "text"
      },
      "source": [
        "# Bayes Theorem\n",
        "## Multiplication rule\n",
        "> # `P(A, B) = P(B | A) * P(A)`\n",
        "> # `P(B, A) = P(A | B) * P(B)`\n",
        "\n",
        "# `A` & `B` are conditional random variables\n",
        "\n"
      ]
    }
  ]
}