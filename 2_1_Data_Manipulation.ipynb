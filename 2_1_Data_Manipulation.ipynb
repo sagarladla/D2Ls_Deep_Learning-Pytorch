{
  "nbformat": 4,
  "nbformat_minor": 0,
  "metadata": {
    "colab": {
      "name": "2.1_Data_Manipulation.ipynb",
      "provenance": [],
      "authorship_tag": "ABX9TyPopx0g3zs/b28AwLLfJpKx",
      "include_colab_link": true
    },
    "kernelspec": {
      "name": "python3",
      "display_name": "Python 3"
    }
  },
  "cells": [
    {
      "cell_type": "markdown",
      "metadata": {
        "id": "view-in-github",
        "colab_type": "text"
      },
      "source": [
        "<a href=\"https://colab.research.google.com/github/sagarladla/D2Ls_Deep_Learning-Pytorch/blob/master/2_1_Data_Manipulation.ipynb\" target=\"_parent\"><img src=\"https://colab.research.google.com/assets/colab-badge.svg\" alt=\"Open In Colab\"/></a>"
      ]
    },
    {
      "cell_type": "code",
      "metadata": {
        "id": "Le5NGMjcVXTS",
        "colab_type": "code",
        "colab": {}
      },
      "source": [
        "import torch"
      ],
      "execution_count": 0,
      "outputs": []
    },
    {
      "cell_type": "code",
      "metadata": {
        "id": "Cb7PHSBGVv8y",
        "colab_type": "code",
        "outputId": "6f1baa58-eb19-4e6d-da26-a9f81eedd0b8",
        "colab": {
          "base_uri": "https://localhost:8080/",
          "height": 121
        }
      },
      "source": [
        "x = torch.arange(12)\n",
        "print(x)\n",
        "print(\"Shape of x: \", x.shape)\n",
        "print(\"Total number of elements: \", x.size())\n",
        "# x.reshape((3, 4))\n",
        "# use -1 to implicitly detect another dimension given one dimension\n",
        "# x.reshape((-1, 4)) or next one\n",
        "x = x.reshape(3, -1)\n",
        "print(x)"
      ],
      "execution_count": 0,
      "outputs": [
        {
          "output_type": "stream",
          "text": [
            "tensor([ 0,  1,  2,  3,  4,  5,  6,  7,  8,  9, 10, 11])\n",
            "Shape of x:  torch.Size([12])\n",
            "Total number of elements:  torch.Size([12])\n",
            "tensor([[ 0,  1,  2,  3],\n",
            "        [ 4,  5,  6,  7],\n",
            "        [ 8,  9, 10, 11]])\n"
          ],
          "name": "stdout"
        }
      ]
    },
    {
      "cell_type": "code",
      "metadata": {
        "id": "tP0uGBpnYWOo",
        "colab_type": "code",
        "outputId": "39e9a377-71a3-4f72-ccc1-849ecc8ecb27",
        "colab": {
          "base_uri": "https://localhost:8080/",
          "height": 451
        }
      },
      "source": [
        "y = torch.empty(2, 3)\n",
        "print(y)\n",
        "zeros = torch.zeros(2, 3, 4)\n",
        "print(zeros, end=\"\\n\\n\")\n",
        "ones = torch.ones(2, 3, 4)\n",
        "print(ones, end=\"\\n\\n\")\n",
        "randn = torch.randn(3,4)\n",
        "print(randn, end=\"\\n\\n\")\n",
        "\n",
        "manx = torch.tensor([[1,2,3,4],[5,6,7,8],[9,10,11,12]])\n",
        "print(manx)"
      ],
      "execution_count": 0,
      "outputs": [
        {
          "output_type": "stream",
          "text": [
            "tensor([[7.7615e-36, 0.0000e+00, 1.6535e-43],\n",
            "        [5.6052e-44, 1.5975e-43, 1.4153e-43]])\n",
            "tensor([[[0., 0., 0., 0.],\n",
            "         [0., 0., 0., 0.],\n",
            "         [0., 0., 0., 0.]],\n",
            "\n",
            "        [[0., 0., 0., 0.],\n",
            "         [0., 0., 0., 0.],\n",
            "         [0., 0., 0., 0.]]])\n",
            "\n",
            "tensor([[[1., 1., 1., 1.],\n",
            "         [1., 1., 1., 1.],\n",
            "         [1., 1., 1., 1.]],\n",
            "\n",
            "        [[1., 1., 1., 1.],\n",
            "         [1., 1., 1., 1.],\n",
            "         [1., 1., 1., 1.]]])\n",
            "\n",
            "tensor([[ 0.8963,  0.4863,  0.6249, -1.2303],\n",
            "        [-1.1122,  0.0295, -0.5138,  0.3617],\n",
            "        [ 1.2746, -0.2559,  1.2176, -1.2989]])\n",
            "\n",
            "tensor([[ 1,  2,  3,  4],\n",
            "        [ 5,  6,  7,  8],\n",
            "        [ 9, 10, 11, 12]])\n"
          ],
          "name": "stdout"
        }
      ]
    },
    {
      "cell_type": "code",
      "metadata": {
        "id": "BwWDay_Nes25",
        "colab_type": "code",
        "outputId": "86c97f79-651c-44fd-d4eb-cde34acea2cd",
        "colab": {
          "base_uri": "https://localhost:8080/",
          "height": 34
        }
      },
      "source": [
        "x = torch.tensor([1.0,2,4,8])\n",
        "y = torch.tensor([2,2,2,2,])\n",
        "x+y,x-y,x/y,x**y # ** is exponentiation operator\n",
        "\n",
        "torch.exp(x)"
      ],
      "execution_count": 0,
      "outputs": [
        {
          "output_type": "execute_result",
          "data": {
            "text/plain": [
              "tensor([2.7183e+00, 7.3891e+00, 5.4598e+01, 2.9810e+03])"
            ]
          },
          "metadata": {
            "tags": []
          },
          "execution_count": 27
        }
      ]
    },
    {
      "cell_type": "code",
      "metadata": {
        "id": "ZpXsN4kEhl1z",
        "colab_type": "code",
        "outputId": "96de90a2-48c0-48b2-d833-60d9562b79fb",
        "colab": {
          "base_uri": "https://localhost:8080/",
          "height": 173
        }
      },
      "source": [
        "x = torch.arange(12, dtype=torch.float32).reshape(3,-1)\n",
        "y = torch.tensor([[2.0,1,4,3],[1,2,3,4],[4,3,2,1]])\n",
        "torch.cat((x,y), dim=0), torch.cat((x,y), dim=1)"
      ],
      "execution_count": 0,
      "outputs": [
        {
          "output_type": "execute_result",
          "data": {
            "text/plain": [
              "(tensor([[ 0.,  1.,  2.,  3.],\n",
              "         [ 4.,  5.,  6.,  7.],\n",
              "         [ 8.,  9., 10., 11.],\n",
              "         [ 2.,  1.,  4.,  3.],\n",
              "         [ 1.,  2.,  3.,  4.],\n",
              "         [ 4.,  3.,  2.,  1.]]),\n",
              " tensor([[ 0.,  1.,  2.,  3.,  2.,  1.,  4.,  3.],\n",
              "         [ 4.,  5.,  6.,  7.,  1.,  2.,  3.,  4.],\n",
              "         [ 8.,  9., 10., 11.,  4.,  3.,  2.,  1.]]))"
            ]
          },
          "metadata": {
            "tags": []
          },
          "execution_count": 83
        }
      ]
    },
    {
      "cell_type": "code",
      "metadata": {
        "id": "1hAJIhB2i1Nb",
        "colab_type": "code",
        "outputId": "62b23d34-9e59-4869-c1c2-67ea4baeeaeb",
        "colab": {
          "base_uri": "https://localhost:8080/",
          "height": 34
        }
      },
      "source": [
        "x == y\n",
        "x.sum()"
      ],
      "execution_count": 0,
      "outputs": [
        {
          "output_type": "execute_result",
          "data": {
            "text/plain": [
              "tensor(66.)"
            ]
          },
          "metadata": {
            "tags": []
          },
          "execution_count": 89
        }
      ]
    },
    {
      "cell_type": "code",
      "metadata": {
        "id": "G6yKUncUkMbv",
        "colab_type": "code",
        "outputId": "bebdee8b-fa07-4e48-ae0f-bca5cafa7f77",
        "colab": {
          "base_uri": "https://localhost:8080/",
          "height": 69
        }
      },
      "source": [
        "# Boradcasting : binary element wise operations on matrices of different dimensions\n",
        "a=torch.arange(3).reshape(3,1)\n",
        "b=torch.arange(2).reshape(1,2)\n",
        "a+b"
      ],
      "execution_count": 0,
      "outputs": [
        {
          "output_type": "execute_result",
          "data": {
            "text/plain": [
              "tensor([[0, 1],\n",
              "        [1, 2],\n",
              "        [2, 3]])"
            ]
          },
          "metadata": {
            "tags": []
          },
          "execution_count": 54
        }
      ]
    },
    {
      "cell_type": "code",
      "metadata": {
        "id": "F9cRWUzrmdpb",
        "colab_type": "code",
        "outputId": "04171b4b-4588-4942-b317-ff242f579f0c",
        "colab": {
          "base_uri": "https://localhost:8080/",
          "height": 69
        }
      },
      "source": [
        "# Indexing\n",
        "x[1,2]=9\n",
        "# Slicing\n",
        "x[:2,:] = 12\n",
        "x"
      ],
      "execution_count": 0,
      "outputs": [
        {
          "output_type": "execute_result",
          "data": {
            "text/plain": [
              "tensor([[12., 12., 12., 12.],\n",
              "        [12., 12., 12., 12.],\n",
              "        [ 8.,  9., 10., 11.]])"
            ]
          },
          "metadata": {
            "tags": []
          },
          "execution_count": 64
        }
      ]
    },
    {
      "cell_type": "code",
      "metadata": {
        "id": "62SRS2sLqfEH",
        "colab_type": "code",
        "outputId": "e3640a4f-db1b-49b9-acf2-2c59384c3b0e",
        "colab": {
          "base_uri": "https://localhost:8080/",
          "height": 86
        }
      },
      "source": [
        "# Not saving memory\n",
        "before = id(y)\n",
        "y=y+x\n",
        "id(y) == before\n",
        "\n",
        "# Saving memory\n",
        "z=torch.zeros_like(y)\n",
        "print(\"id(z): \", id(z))\n",
        "z[:]=x+y\n",
        "print(\"id(z): \", id(z))\n",
        "\n",
        "### or\n",
        "\n",
        "print(\"id(x): \", id(x))\n",
        "x+=y\n",
        "print(\"id(x): \", id(x))"
      ],
      "execution_count": 0,
      "outputs": [
        {
          "output_type": "stream",
          "text": [
            "id(z):  140346485048808\n",
            "id(z):  140346485048808\n",
            "id(x):  140346485134392\n",
            "id(x):  140346485134392\n"
          ],
          "name": "stdout"
        }
      ]
    },
    {
      "cell_type": "code",
      "metadata": {
        "id": "8hjR1LxXr0YG",
        "colab_type": "code",
        "outputId": "49d3c4fe-4cc0-421d-bf73-907d40ab2c68",
        "colab": {
          "base_uri": "https://localhost:8080/",
          "height": 34
        }
      },
      "source": [
        "a=x.numpy()\n",
        "b=torch.tensor(a)\n",
        "type(a), type(b)\n",
        "\n",
        "a=torch.tensor([3.5])\n",
        "a\n",
        "a.item() # torch tensor's function\n",
        "int(a),float(a) # Python's inbuilt function"
      ],
      "execution_count": 0,
      "outputs": [
        {
          "output_type": "execute_result",
          "data": {
            "text/plain": [
              "tensor([3.5000])"
            ]
          },
          "metadata": {
            "tags": []
          },
          "execution_count": 74
        }
      ]
    },
    {
      "cell_type": "code",
      "metadata": {
        "id": "sv0w2Nztr0Ts",
        "colab_type": "code",
        "colab": {}
      },
      "source": [
        ""
      ],
      "execution_count": 0,
      "outputs": []
    }
  ]
}